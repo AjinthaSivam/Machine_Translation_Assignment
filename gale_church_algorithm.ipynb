{
  "nbformat": 4,
  "nbformat_minor": 0,
  "metadata": {
    "colab": {
      "provenance": []
    },
    "kernelspec": {
      "name": "python3",
      "display_name": "Python 3"
    },
    "language_info": {
      "name": "python"
    }
  },
  "cells": [
    {
      "cell_type": "code",
      "execution_count": 1,
      "metadata": {
        "id": "PTzrHUjnitTT"
      },
      "outputs": [],
      "source": [
        "import numpy as np"
      ]
    },
    {
      "cell_type": "code",
      "source": [
        "# Read the English sentences\n",
        "with open('english.txt', 'r', encoding='utf-8') as f:\n",
        "    english_sentences = [line.strip() for line in f.readlines()]"
      ],
      "metadata": {
        "id": "gUWP1qQsz1vL"
      },
      "execution_count": 3,
      "outputs": []
    },
    {
      "cell_type": "code",
      "source": [
        "print(english_sentences[:10])"
      ],
      "metadata": {
        "colab": {
          "base_uri": "https://localhost:8080/"
        },
        "id": "bR5NP9k9z6NE",
        "outputId": "05335ee9-bc74-4a88-85ab-a49630527400"
      },
      "execution_count": 4,
      "outputs": [
        {
          "output_type": "stream",
          "name": "stdout",
          "text": [
            "['I have come to a decision.', 'Oh! what`s that?', 'I don’t want to go to Kandy.', 'I have been thinking about it.', 'It sounds fun.', 'But I don’t want to do it.', 'What did you just say?', 'Who are you?', 'I`ll take water samples.', 'I can help you.']\n"
          ]
        }
      ]
    },
    {
      "cell_type": "code",
      "source": [
        "# Read the English sentences\n",
        "with open('sinhala.txt', 'r', encoding='utf-8') as f:\n",
        "    sinhala_sentences = [line.strip() for line in f.readlines()]"
      ],
      "metadata": {
        "id": "-d1sHuHV0D7s"
      },
      "execution_count": 12,
      "outputs": []
    },
    {
      "cell_type": "code",
      "source": [
        "print(sinhala_sentences[:10])"
      ],
      "metadata": {
        "colab": {
          "base_uri": "https://localhost:8080/"
        },
        "id": "fVsIBtU20LdC",
        "outputId": "4cd0a85e-371f-46f1-fac6-5e0f79478c70"
      },
      "execution_count": 13,
      "outputs": [
        {
          "output_type": "stream",
          "name": "stdout",
          "text": [
            "['මම තීරණයටකට ඇවිත් ඉන්නේ.', 'ඇත්තට . මොකද්ද ඒ?', 'මට නුවර යන්න ඕනේ නෑ.', 'මම ඒ ගැන හිත හිතා උන්නා.', 'ඒක ෆන් වගේ.', 'ඒත් මට ඒක කරන්න ඕනේ නෑ.', 'මොකද්ද ඔයා මේ දැන් කිව්වේ?', 'ඔයා කවුද?', 'මම ජල සාම්පල ගන්නම්.', 'මට පුළුවන් ඔයාට උදව් කරන්න.']\n"
          ]
        }
      ]
    },
    {
      "cell_type": "code",
      "source": [
        "# Function to calculate the count of words in a sentence\n",
        "def sentence_length(sentence):\n",
        "  leghth_of_words = len(sentence.split())\n",
        "  return leghth_of_words"
      ],
      "metadata": {
        "id": "iUG3RBOU1Aw3"
      },
      "execution_count": 7,
      "outputs": []
    },
    {
      "cell_type": "code",
      "source": [
        "english_length = []\n",
        "for sentence in english_sentences:\n",
        "  english_length.append(sentence_length(sentence))"
      ],
      "metadata": {
        "id": "6MQFYavd1dfX"
      },
      "execution_count": 8,
      "outputs": []
    },
    {
      "cell_type": "code",
      "source": [
        "print(english_length[:10])"
      ],
      "metadata": {
        "colab": {
          "base_uri": "https://localhost:8080/"
        },
        "id": "QdJypa601ru1",
        "outputId": "312aaff4-2609-4e66-9fce-28ce05041b30"
      },
      "execution_count": 9,
      "outputs": [
        {
          "output_type": "stream",
          "name": "stdout",
          "text": [
            "[6, 3, 7, 6, 3, 7, 5, 3, 4, 4]\n"
          ]
        }
      ]
    },
    {
      "cell_type": "code",
      "source": [
        "sinhala_length = []\n",
        "for sentence in sinhala_sentences:\n",
        "  sinhala_length.append(sentence_length(sentence))"
      ],
      "metadata": {
        "id": "fHlRV2l017Rm"
      },
      "execution_count": 14,
      "outputs": []
    },
    {
      "cell_type": "code",
      "source": [
        "print(sinhala_length[:10])"
      ],
      "metadata": {
        "colab": {
          "base_uri": "https://localhost:8080/"
        },
        "id": "CO5MyPj11-H0",
        "outputId": "851710ff-f363-414f-9556-23390f313a6c"
      },
      "execution_count": 15,
      "outputs": [
        {
          "output_type": "stream",
          "name": "stdout",
          "text": [
            "[4, 4, 5, 6, 3, 6, 5, 2, 4, 5]\n"
          ]
        }
      ]
    },
    {
      "cell_type": "code",
      "source": [
        "n = len(english_length)\n",
        "print(n)"
      ],
      "metadata": {
        "colab": {
          "base_uri": "https://localhost:8080/"
        },
        "id": "_JPUHWgn3r5R",
        "outputId": "940b18c9-f5ef-4ef7-cba9-94cd06dabd91"
      },
      "execution_count": 20,
      "outputs": [
        {
          "output_type": "stream",
          "name": "stdout",
          "text": [
            "100\n"
          ]
        }
      ]
    },
    {
      "cell_type": "code",
      "source": [
        "m = len(sinhala_length)\n",
        "print(m)"
      ],
      "metadata": {
        "colab": {
          "base_uri": "https://localhost:8080/"
        },
        "id": "qVRqAUBK3u7j",
        "outputId": "31ed0c9c-2ec5-4bc7-a462-ab69556404e9"
      },
      "execution_count": 21,
      "outputs": [
        {
          "output_type": "stream",
          "name": "stdout",
          "text": [
            "100\n"
          ]
        }
      ]
    },
    {
      "cell_type": "code",
      "source": [
        "# Initialize the cost matrix\n",
        "cost_matrix = np.zeros((n+1, m+1))"
      ],
      "metadata": {
        "id": "ejI6fkyR5VrI"
      },
      "execution_count": 108,
      "outputs": []
    },
    {
      "cell_type": "code",
      "source": [
        "gap_cost = 450"
      ],
      "metadata": {
        "id": "XJpBaT0YQ5lP"
      },
      "execution_count": 109,
      "outputs": []
    },
    {
      "cell_type": "code",
      "source": [
        "cost_matrix[:, 0] = np.arange(n+1) * gap_cost\n",
        "cost_matrix[0, :] = np.arange(m+1) * gap_cost"
      ],
      "metadata": {
        "id": "dTYdNxjSRLyq"
      },
      "execution_count": 110,
      "outputs": []
    },
    {
      "cell_type": "code",
      "source": [
        "cost_matrix"
      ],
      "metadata": {
        "colab": {
          "base_uri": "https://localhost:8080/"
        },
        "id": "Ei8bpfdARWxJ",
        "outputId": "5a7def1e-ae4a-4b24-e57c-2071517f97e2"
      },
      "execution_count": 111,
      "outputs": [
        {
          "output_type": "execute_result",
          "data": {
            "text/plain": [
              "array([[    0.,   450.,   900., ..., 44100., 44550., 45000.],\n",
              "       [  450.,     0.,     0., ...,     0.,     0.,     0.],\n",
              "       [  900.,     0.,     0., ...,     0.,     0.,     0.],\n",
              "       ...,\n",
              "       [44100.,     0.,     0., ...,     0.,     0.,     0.],\n",
              "       [44550.,     0.,     0., ...,     0.,     0.,     0.],\n",
              "       [45000.,     0.,     0., ...,     0.,     0.,     0.]])"
            ]
          },
          "metadata": {},
          "execution_count": 111
        }
      ]
    },
    {
      "cell_type": "code",
      "source": [
        "# Fill the cost matrix\n",
        "for i in range(1, n + 1):\n",
        "  for j in range(1, m + 1):\n",
        "    cost_match = cost_matrix[i - 1, j - 1] + abs(english_length[i - 1] - sinhala_length[j - 1])\n",
        "    cost_gap_s = cost_matrix[i - 1, j] + gap_cost\n",
        "    cost_gap_t = cost_matrix[i, j - 1] + gap_cost\n",
        "    cost_matrix[i, j] = min(cost_match, cost_gap_s, cost_gap_t)"
      ],
      "metadata": {
        "id": "LqDEvSD7Rfci"
      },
      "execution_count": 113,
      "outputs": []
    },
    {
      "cell_type": "code",
      "source": [
        "cost_matrix"
      ],
      "metadata": {
        "colab": {
          "base_uri": "https://localhost:8080/"
        },
        "id": "TscXJNPmSJLB",
        "outputId": "91c11b39-71a5-4464-cf00-101885db075a"
      },
      "execution_count": 114,
      "outputs": [
        {
          "output_type": "execute_result",
          "data": {
            "text/plain": [
              "array([[0.000e+00, 4.500e+02, 9.000e+02, ..., 4.410e+04, 4.455e+04,\n",
              "        4.500e+04],\n",
              "       [4.500e+02, 2.000e+00, 4.520e+02, ..., 4.365e+04, 4.410e+04,\n",
              "        4.455e+04],\n",
              "       [9.000e+02, 4.510e+02, 3.000e+00, ..., 4.320e+04, 4.365e+04,\n",
              "        4.410e+04],\n",
              "       ...,\n",
              "       [4.410e+04, 4.365e+04, 4.320e+04, ..., 1.050e+02, 5.550e+02,\n",
              "        1.005e+03],\n",
              "       [4.455e+04, 4.410e+04, 4.365e+04, ..., 5.550e+02, 1.060e+02,\n",
              "        5.560e+02],\n",
              "       [4.500e+04, 4.455e+04, 4.410e+04, ..., 1.005e+03, 5.560e+02,\n",
              "        1.080e+02]])"
            ]
          },
          "metadata": {},
          "execution_count": 114
        }
      ]
    },
    {
      "cell_type": "code",
      "source": [
        "alignments = []\n",
        "i, j = n, m"
      ],
      "metadata": {
        "id": "LFgmyWU4SWwA"
      },
      "execution_count": 120,
      "outputs": []
    },
    {
      "cell_type": "code",
      "source": [
        "while i > 0 and j > 0:\n",
        "  if i > 0 and j > 0 and cost_matrix[i, j] == cost_matrix[i - 1, j - 1] + abs(english_length[i - 1] - sinhala_length[j - 1]):\n",
        "    alignments.append((i - 1, j - 1))\n",
        "    i -= 1\n",
        "    j -= 1\n",
        "  elif i > 0 and cost_matrix[i, j] == cost_matrix[i - 1, j] + gap_cost:\n",
        "    alignments.append((i - 1, j))\n",
        "    i -= 1\n",
        "  else:\n",
        "    alignments.append((i, j - 1))\n",
        "    j -= 1"
      ],
      "metadata": {
        "id": "8EpVP1UaSWse"
      },
      "execution_count": 121,
      "outputs": []
    },
    {
      "cell_type": "code",
      "source": [
        "alignments[:20]"
      ],
      "metadata": {
        "colab": {
          "base_uri": "https://localhost:8080/"
        },
        "id": "MjxpcocKTBCi",
        "outputId": "cec100c5-0dec-4ec5-ccd8-c3115ddb4f29"
      },
      "execution_count": 139,
      "outputs": [
        {
          "output_type": "execute_result",
          "data": {
            "text/plain": [
              "[(99, 99),\n",
              " (98, 98),\n",
              " (97, 97),\n",
              " (96, 96),\n",
              " (95, 95),\n",
              " (94, 94),\n",
              " (93, 93),\n",
              " (92, 92),\n",
              " (91, 91),\n",
              " (90, 90),\n",
              " (89, 89),\n",
              " (88, 88),\n",
              " (87, 87),\n",
              " (86, 86),\n",
              " (85, 85),\n",
              " (84, 84),\n",
              " (83, 83),\n",
              " (82, 82),\n",
              " (81, 81),\n",
              " (80, 80)]"
            ]
          },
          "metadata": {},
          "execution_count": 139
        }
      ]
    },
    {
      "cell_type": "code",
      "source": [
        "sentence_alignments = []\n",
        "for i, j in reversed(alignments):\n",
        "  sentence_alignments.append((english_sentences[i], sinhala_sentences[j]))"
      ],
      "metadata": {
        "id": "9VwgPXDSTbsj"
      },
      "execution_count": 123,
      "outputs": []
    },
    {
      "cell_type": "code",
      "source": [
        "sentence_alignments[:20]"
      ],
      "metadata": {
        "colab": {
          "base_uri": "https://localhost:8080/"
        },
        "id": "vHfRS4ljTuiZ",
        "outputId": "c227ada0-29d9-4af0-9bfd-e79456433b60"
      },
      "execution_count": 124,
      "outputs": [
        {
          "output_type": "execute_result",
          "data": {
            "text/plain": [
              "[('I have come to a decision.', 'මම තීරණයටකට ඇවිත් ඉන්නේ.'),\n",
              " ('Oh! what`s that?', 'ඇත්තට . මොකද්ද ඒ?'),\n",
              " ('I don’t want to go to Kandy.', 'මට නුවර යන්න ඕනේ නෑ.'),\n",
              " ('I have been thinking about it.', 'මම ඒ ගැන හිත හිතා උන්නා.'),\n",
              " ('It sounds fun.', 'ඒක ෆන් වගේ.'),\n",
              " ('But I don’t want to do it.', 'ඒත් මට ඒක කරන්න ඕනේ නෑ.'),\n",
              " ('What did you just say?', 'මොකද්ද ඔයා මේ දැන් කිව්වේ?'),\n",
              " ('Who are you?', 'ඔයා කවුද?'),\n",
              " ('I`ll take water samples.', 'මම ජල සාම්පල ගන්නම්.'),\n",
              " ('I can help you.', 'මට පුළුවන් ඔයාට උදව් කරන්න.'),\n",
              " ('What happened?', 'මොකද උනේ?'),\n",
              " ('Did you see that?', 'ඔයා ඒක දැක්කද?'),\n",
              " ('Oh my god. Are you ok?', 'මගේ දෙයියනේ ! ඔයා හොඳින්ද?'),\n",
              " ('He ran over my foot.', 'ඔහු මගේ කකුල උඩින් වාහනේ අරන්ගියා.'),\n",
              " ('That`s a big deal.', 'ඒක ලොකු වැඩක්.'),\n",
              " ('That`s not a big deal.', 'ඒක ප්\\u200dරශ්නයක් නෙමෙයි.'),\n",
              " ('Can I go there?', 'මම යන්නද එහේ?'),\n",
              " ('Will her mother be there?', 'ඇයගේ අම්මා එහේ ඉඳීද?'),\n",
              " ('That`s okay then.', 'හරි . ඒක ප්\\u200dරශ්නයක් නෑ එහෙනම්.'),\n",
              " ('Yes, I think so.', 'ඔවු මම හිතනව එහෙම.')]"
            ]
          },
          "metadata": {},
          "execution_count": 124
        }
      ]
    },
    {
      "cell_type": "code",
      "source": [
        "reversed_alignments = alignments[::-1]"
      ],
      "metadata": {
        "id": "YXesYEzWT6Fd"
      },
      "execution_count": 125,
      "outputs": []
    },
    {
      "cell_type": "code",
      "source": [
        "reversed_alignments[:20]"
      ],
      "metadata": {
        "colab": {
          "base_uri": "https://localhost:8080/"
        },
        "id": "Kr_8zfpjUAnQ",
        "outputId": "585435dd-bb82-43c7-d16e-c609c45ed1fa"
      },
      "execution_count": 126,
      "outputs": [
        {
          "output_type": "execute_result",
          "data": {
            "text/plain": [
              "[(0, 0),\n",
              " (1, 1),\n",
              " (2, 2),\n",
              " (3, 3),\n",
              " (4, 4),\n",
              " (5, 5),\n",
              " (6, 6),\n",
              " (7, 7),\n",
              " (8, 8),\n",
              " (9, 9),\n",
              " (10, 10),\n",
              " (11, 11),\n",
              " (12, 12),\n",
              " (13, 13),\n",
              " (14, 14),\n",
              " (15, 15),\n",
              " (16, 16),\n",
              " (17, 17),\n",
              " (18, 18),\n",
              " (19, 19)]"
            ]
          },
          "metadata": {},
          "execution_count": 126
        }
      ]
    },
    {
      "cell_type": "code",
      "source": [
        "import matplotlib.pyplot as plt"
      ],
      "metadata": {
        "id": "XLAQqsVvU6Va"
      },
      "execution_count": 135,
      "outputs": []
    },
    {
      "cell_type": "code",
      "source": [
        "english_indices, sinhala_indices = zip(*reversed_alignments)"
      ],
      "metadata": {
        "id": "Vu9OkZ9vUyDu"
      },
      "execution_count": 136,
      "outputs": []
    },
    {
      "cell_type": "code",
      "source": [
        "# Plot the alignment curve\n",
        "plt.figure(figsize=(8, 8))\n",
        "plt.scatter(sinhala_indices, english_indices, c='blue', label='Sentence Alignment', alpha=0.6)\n",
        "plt.xlabel('Sinhala Sentence Index')\n",
        "plt.ylabel('English Sentence Index')\n",
        "plt.title('Sentence Alignment Curve')\n",
        "plt.grid(True)\n",
        "plt.legend()\n",
        "plt.show()"
      ],
      "metadata": {
        "colab": {
          "base_uri": "https://localhost:8080/",
          "height": 718
        },
        "id": "e1C-EMFEU_zT",
        "outputId": "16bf6253-2d5f-4864-8bf9-4b5493c00fca"
      },
      "execution_count": 138,
      "outputs": [
        {
          "output_type": "display_data",
          "data": {
            "text/plain": [
              "<Figure size 800x800 with 1 Axes>"
            ],
            "image/png": "[encoded data removed]"
          },
          "metadata": {}
        }
      ]
    },
    {
      "cell_type": "markdown",
      "source": [
        "# Calculate the accuracy"
      ],
      "metadata": {
        "id": "OBo-798TEmVy"
      }
    },
    {
      "cell_type": "code",
      "source": [
        "# Assume the true, correct alignments (ground truth) are 1-to-1 (sentence i corresponds to sentence i)\n",
        "ground_truth_alignments = [(i, i) for i in range(len(sinhala_sentences))]  # For 100 sentences, it will be [(0, 0), (1, 1), ..., (99, 99)]"
      ],
      "metadata": {
        "id": "kuRW6Iw9EqlC"
      },
      "execution_count": 127,
      "outputs": []
    },
    {
      "cell_type": "code",
      "source": [
        "# Your predicted alignments from the Gale-Church algorithm\n",
        "predicted_alignments = reversed_alignments  # Example: this comes from the output of your align_sentences() function"
      ],
      "metadata": {
        "id": "ATrJSvF7Evw1"
      },
      "execution_count": 128,
      "outputs": []
    },
    {
      "cell_type": "code",
      "source": [
        "# Convert both ground truth and predicted alignments to sets (for easy comparison)\n",
        "ground_truth_set = set(ground_truth_alignments)\n",
        "predicted_set = set(predicted_alignments)"
      ],
      "metadata": {
        "id": "HcFSBqo-GZap"
      },
      "execution_count": 129,
      "outputs": []
    },
    {
      "cell_type": "code",
      "source": [
        "# Find the number of correct alignments (common elements between ground truth and predicted)\n",
        "correct_alignments = ground_truth_set.intersection(predicted_set)\n",
        "correct_alignments_count = len(correct_alignments)\n",
        "print(correct_alignments_count)"
      ],
      "metadata": {
        "colab": {
          "base_uri": "https://localhost:8080/"
        },
        "id": "xrcmGPK5GfOn",
        "outputId": "c16313d0-0bd5-41c5-d211-e799b4deb42c"
      },
      "execution_count": 133,
      "outputs": [
        {
          "output_type": "stream",
          "name": "stdout",
          "text": [
            "100\n"
          ]
        }
      ]
    },
    {
      "cell_type": "code",
      "source": [
        "accuracy = (len(correct_alignments) / len(ground_truth_set)) * 100\n",
        "print(f\"Accuracy: {accuracy:.2f}%\")\n",
        "accuracy"
      ],
      "metadata": {
        "colab": {
          "base_uri": "https://localhost:8080/"
        },
        "id": "-A3_-nXVGx5W",
        "outputId": "1e08865b-f89f-4895-ef91-6d4730c81a5f"
      },
      "execution_count": 131,
      "outputs": [
        {
          "output_type": "stream",
          "name": "stdout",
          "text": [
            "Accuracy: 100.00%\n"
          ]
        },
        {
          "output_type": "execute_result",
          "data": {
            "text/plain": [
              "100.0"
            ]
          },
          "metadata": {},
          "execution_count": 131
        }
      ]
    }
  ]
}